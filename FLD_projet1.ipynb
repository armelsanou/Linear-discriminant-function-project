{
 "cells": [
  {
   "cell_type": "code",
   "execution_count": null,
   "metadata": {},
   "outputs": [],
   "source": [
    "# exemples - cours FLD\n",
    "\n",
    "## Exemple 1 - mvtnorm\n",
    "library(mvtnorm)\n",
    "x.points <- seq(-3,3,length.out=100)\n",
    "y.points <- x.points\n",
    "z <- matrix(0,nrow=100,ncol=100)\n",
    "mu <- c(1,1)\n",
    "sigma <- matrix(c(1,-1,-1,5),nrow=2)\n",
    "for (i in 1:100) {\n",
    "  for (j in 1:100) {\n",
    "    z[i,j] <- dmvnorm(c(x.points[i],y.points[j]),\n",
    "                      mean=mu,sigma=sigma)\n",
    "  }\n",
    "}\n",
    "contour(x.points,y.points,z)"
   ]
  },
  {
   "cell_type": "code",
   "execution_count": null,
   "metadata": {},
   "outputs": [],
   "source": [
    "## Exemple 2 - MixSim\n",
    "\n",
    "library(\"MixSim\")\n",
    "library(\"MASS\")\n",
    "\n",
    "# Création de jeux de données avec MixSim\n",
    "# jeu 1\n",
    "jeu1.Q <- MixSim(MaxOmega = 0.0, BarOmega = 0.0, K = 2, p = 2, sph = TRUE)\n",
    "jeu1 <- simdataset(n = 500, Pi = jeu1.Q$Pi, Mu = jeu1.Q$Mu, S = jeu1.Q$S)\n",
    "\n",
    "#jeu 2\n",
    "jeu2.Q <- MixSim(MaxOmega = 0.10, BarOmega = 0.05, K = 3, p = 2, sph = TRUE)\n",
    "jeu2 <- simdataset(n = 500, Pi = jeu2.Q$Pi, Mu = jeu2.Q$Mu, S = jeu2.Q$S)\n",
    "\n",
    "#jeu 3\n",
    "jeu3.Q <- MixSim(MaxOmega = 0.10, BarOmega = 0.05, K = 3, p = 2, sph = FALSE)\n",
    "jeu3 <- simdataset(n = 500, Pi = jeu3.Q$Pi, Mu = jeu3.Q$Mu, S = jeu3.Q$S)\n"
   ]
  },
  {
   "cell_type": "code",
   "execution_count": null,
   "metadata": {},
   "outputs": [],
   "source": [
    "# Représentation graphique \n",
    "my_plot = function(jeu, predicts, title){\n",
    "  plot(jeu$X, col = colors[predicts], pch = 19, cex = 0.8,\n",
    "       xlab = \"\", ylab = \"\", axes = F, main = title)\n",
    "  box()\n",
    "}\n",
    "\n",
    "colors <- c(\"red\", \"green\", \"blue\")\n",
    "par(mfrow=c(1,3))\n",
    "my_plot(jeu1,jeu1$id,\"Sample 1\")\n",
    "my_plot(jeu2,jeu2$id,\"Sample 2\")\n",
    "my_plot(jeu3,jeu3$id,\"Sample 3\")"
   ]
  },
  {
   "cell_type": "code",
   "execution_count": null,
   "metadata": {},
   "outputs": [],
   "source": []
  }
 ],
 "metadata": {
  "kernelspec": {
   "display_name": "R",
   "language": "R",
   "name": "ir"
  },
  "language_info": {
   "codemirror_mode": {
    "name": "ipython",
    "version": 3
   },
   "file_extension": ".py",
   "mimetype": "text/x-python",
   "name": "python",
   "nbconvert_exporter": "python",
   "pygments_lexer": "ipython3",
   "version": "3.9.7"
  }
 },
 "nbformat": 4,
 "nbformat_minor": 4
}
